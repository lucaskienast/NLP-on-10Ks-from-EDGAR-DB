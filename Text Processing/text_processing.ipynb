{
 "cells": [
  {
   "cell_type": "markdown",
   "metadata": {},
   "source": [
    "# Text Processing\n",
    "\n",
    "## Capturing Text Data\n",
    "\n",
    "### Plain Text"
   ]
  },
  {
   "cell_type": "code",
   "execution_count": 1,
   "metadata": {},
   "outputs": [
    {
     "name": "stdout",
     "output_type": "stream",
     "text": [
      "Hieroglyphic writing dates from c. 3000 BC, and is composed of hundreds of symbols. A hieroglyph can represent a word, a sound, or a silent determinative; and the same symbol can serve different purposes in different contexts. Hieroglyphs were a formal script, used on stone monuments and in tombs, that could be as detailed as individual works of art.\n",
      "\n"
     ]
    }
   ],
   "source": [
    "import os\n",
    "\n",
    "# Read in a plain text file\n",
    "with open(os.path.join(\"data\", \"hieroglyph.txt\"), \"r\") as f:\n",
    "    text = f.read()\n",
    "    print(text)"
   ]
  },
  {
   "cell_type": "markdown",
   "metadata": {},
   "source": [
    "### Tabular Data"
   ]
  },
  {
   "cell_type": "code",
   "execution_count": 2,
   "metadata": {
    "scrolled": true
   },
   "outputs": [
    {
     "data": {
      "text/html": [
       "<div>\n",
       "<style scoped>\n",
       "    .dataframe tbody tr th:only-of-type {\n",
       "        vertical-align: middle;\n",
       "    }\n",
       "\n",
       "    .dataframe tbody tr th {\n",
       "        vertical-align: top;\n",
       "    }\n",
       "\n",
       "    .dataframe thead th {\n",
       "        text-align: right;\n",
       "    }\n",
       "</style>\n",
       "<table border=\"1\" class=\"dataframe\">\n",
       "  <thead>\n",
       "    <tr style=\"text-align: right;\">\n",
       "      <th></th>\n",
       "      <th>publisher</th>\n",
       "      <th>title</th>\n",
       "    </tr>\n",
       "  </thead>\n",
       "  <tbody>\n",
       "    <tr>\n",
       "      <th>0</th>\n",
       "      <td>Livemint</td>\n",
       "      <td>fed's charles plosser sees high bar for change...</td>\n",
       "    </tr>\n",
       "    <tr>\n",
       "      <th>1</th>\n",
       "      <td>IFA Magazine</td>\n",
       "      <td>us open: stocks fall after fed official hints ...</td>\n",
       "    </tr>\n",
       "    <tr>\n",
       "      <th>2</th>\n",
       "      <td>IFA Magazine</td>\n",
       "      <td>fed risks falling 'behind the curve', charles ...</td>\n",
       "    </tr>\n",
       "    <tr>\n",
       "      <th>3</th>\n",
       "      <td>Moneynews</td>\n",
       "      <td>fed's plosser: nasty weather has curbed job gr...</td>\n",
       "    </tr>\n",
       "    <tr>\n",
       "      <th>4</th>\n",
       "      <td>NASDAQ</td>\n",
       "      <td>plosser: fed may have to accelerate tapering pace</td>\n",
       "    </tr>\n",
       "  </tbody>\n",
       "</table>\n",
       "</div>"
      ],
      "text/plain": [
       "      publisher                                              title\n",
       "0      Livemint  fed's charles plosser sees high bar for change...\n",
       "1  IFA Magazine  us open: stocks fall after fed official hints ...\n",
       "2  IFA Magazine  fed risks falling 'behind the curve', charles ...\n",
       "3     Moneynews  fed's plosser: nasty weather has curbed job gr...\n",
       "4        NASDAQ  plosser: fed may have to accelerate tapering pace"
      ]
     },
     "execution_count": 2,
     "metadata": {},
     "output_type": "execute_result"
    }
   ],
   "source": [
    "import pandas as pd\n",
    "\n",
    "# Extract text column from a dataframe\n",
    "df = pd.read_csv(os.path.join(\"data\", \"news.csv\"))\n",
    "df.head()[['publisher', 'title']]\n",
    "\n",
    "# Convert text column to lowercase\n",
    "df['title'] = df['title'].str.lower()\n",
    "df.head()[['publisher', 'title']]"
   ]
  },
  {
   "cell_type": "markdown",
   "metadata": {},
   "source": [
    "### Online Resource"
   ]
  },
  {
   "cell_type": "code",
   "execution_count": 3,
   "metadata": {
    "scrolled": true
   },
   "outputs": [
    {
     "name": "stdout",
     "output_type": "stream",
     "text": [
      "{\n",
      "    \"success\": {\n",
      "        \"total\": 1\n",
      "    },\n",
      "    \"contents\": {\n",
      "        \"quotes\": [\n",
      "            {\n",
      "                \"quote\": \"Do the best you can until you know better. Then when you know better, do better.\",\n",
      "                \"length\": \"80\",\n",
      "                \"author\": \"Maya Angelou\",\n",
      "                \"tags\": [\n",
      "                    \"inspire\",\n",
      "                    \"wisdom\"\n",
      "                ],\n",
      "                \"category\": \"inspire\",\n",
      "                \"language\": \"en\",\n",
      "                \"date\": \"2021-04-09\",\n",
      "                \"permalink\": \"https://theysaidso.com/quote/maya-angelou-do-the-best-you-can-until-you-know-better-then-when-you-know-better\",\n",
      "                \"id\": \"B27anrMZFJFeMsJyTvRkrweF\",\n",
      "                \"background\": \"https://theysaidso.com/img/qod/qod-inspire.jpg\",\n",
      "                \"title\": \"Inspiring Quote of the day\"\n",
      "            }\n",
      "        ]\n",
      "    },\n",
      "    \"baseurl\": \"https://theysaidso.com\",\n",
      "    \"copyright\": {\n",
      "        \"year\": 2023,\n",
      "        \"url\": \"https://theysaidso.com\"\n",
      "    }\n",
      "}\n",
      "Do the best you can until you know better. Then when you know better, do better. \n",
      "-- Maya Angelou\n"
     ]
    }
   ],
   "source": [
    "import requests\n",
    "import json\n",
    "\n",
    "# Fetch data from a REST API\n",
    "r = requests.get(\n",
    "    \"https://quotes.rest/qod.json\")\n",
    "res = r.json()\n",
    "print(json.dumps(res, indent=4))\n",
    "\n",
    "# Extract relevant object and field\n",
    "q = res[\"contents\"][\"quotes\"][0]\n",
    "print(q[\"quote\"], \"\\n--\", q[\"author\"])"
   ]
  },
  {
   "cell_type": "markdown",
   "metadata": {},
   "source": [
    "## Cleaning"
   ]
  },
  {
   "cell_type": "code",
   "execution_count": 15,
   "metadata": {
    "scrolled": true
   },
   "outputs": [
    {
     "name": "stdout",
     "output_type": "stream",
     "text": [
      "<html lang=\"en\" op=\"news\"><head><meta name=\"referrer\" content=\"origin\"><meta name=\"viewport\" content=\"width=device-width, initial-scale=1.0\"><link rel=\"stylesheet\" type=\"text/css\" href=\"news.css?kYAZqEBDkZ1yesLxUECv\">\n",
      "        <link rel=\"shortcut icon\" href=\"favicon.ico\">\n",
      "          <link rel=\"alternate\" type=\"application/rss+xml\" title=\"RSS\" href=\"rss\">\n",
      "        <title>Hacker News</title></head><body><center><table id=\"hnmain\" border=\"0\" cellpadding=\"0\" cellspacing=\"0\" width=\"85%\" bgcolor=\"#f6f6ef\">\n",
      "        <tr><td bgcolor=\"#ff6600\"><table border=\"0\" cellpadding=\"0\" cellspacing=\"0\" width=\"100%\" style=\"padding:2px\"><tr><td style=\"width:18px;padding-right:4px\"><a href=\"https://news.ycombinator.com\"><img src=\"y18.gif\" width=\"18\" height=\"18\" style=\"border:1px white solid;\"></a></td>\n",
      "                  <td style=\"line-height:12pt; height:10px;\"><span class=\"pagetop\"><b class=\"hnname\"><a href=\"news\">Hacker News</a></b>\n",
      "              <a href=\"newest\">new</a> | <a href=\"front\">past</a> | <a href=\"newcomments\">comments</a> | <a href=\"ask\">ask</a> | <a href=\"show\">show</a> | <a href=\"jobs\">jobs</a> | <a href=\"submit\">submit</a>            </span></td><td style=\"text-align:right;padding-right:4px;\"><span class=\"pagetop\">\n",
      "                              <a href=\"login?goto=news\">login</a>\n",
      "                          </span></td>\n",
      "              </tr></table></td></tr>\n",
      "<tr id=\"pagespace\" title=\"\" style=\"height:10px\"></tr><tr><td><table border=\"0\" cellpadding=\"0\" cellspacing=\"0\" class=\"itemlist\">\n",
      "              <tr class='athing' id='26749350'>\n",
      "      <td align=\"right\" valign=\"top\" class=\"title\"><span class=\"rank\">1.</span></td>      <td valign=\"top\" class=\"votelinks\"><center><a id='up_26749350' href='vote?id=26749350&amp;how=up&amp;goto=news'><div class='votearrow' title='upvote'></div></a></center></td><td class=\"title\"><a href=\"https://blog.malwarebytes.com/exploits-and-vulnerabilities/2021/04/zoom-zero-day-discovery-makes-calls-safer-hackers-200000-richer/\" class=\"storylink\">Zoom zero-day discovery</a><span class=\"sitebit comhead\"> (<a href=\"from?site=malwarebytes.com\"><span class=\"sitestr\">malwarebytes.com</span></a>)</span></td></tr><tr><td colspan=\"2\"></td><td class=\"subtext\">\n",
      "        <span class=\"score\" id=\"score_26749350\">294 points</span> by <a href=\"user?id=alexrustic\" class=\"hnuser\">alexrustic</a> <span class=\"age\"><a href=\"item?id=26749350\">5 hours ago</a></span> <span id=\"unv_26749350\"></span> | <a href=\"hide?id=26749350&amp;goto=news\">hide</a> | <a href=\"item?id=26749350\">151&nbsp;comments</a>              </td></tr>\n",
      "      <tr class=\"spacer\" style=\"height:5px\"></tr>\n",
      "                <tr class='athing' id='26750976'>\n",
      "      <td align=\"right\" valign=\"top\" class=\"title\"><span class=\"rank\">2.</span></td>      <td valign=\"top\" class=\"votelinks\"><center><a id='up_26750976' href='vote?id=26750976&amp;how=up&amp;goto=news'><div class='votearrow' title='upvote'></div></a></center></td><td class=\"title\"><a href=\"https://gitlab.freedesktop.org/xorg/xserver/-/merge_requests/587\" class=\"storylink\">HW accelerated Xwayland rendering for Nvidia merged</a><span class=\"sitebit comhead\"> (<a href=\"from?site=freedesktop.org\"><span class=\"sitestr\">freedesktop.org</span></a>)</span></td></tr><tr><td colspan=\"2\"></td><td class=\"subtext\">\n",
      "        <span class=\"score\" id=\"score_26750976\">79 points</span> by <a href=\"user?id=luigifcruz\" class=\"hnuser\">luigifcruz</a> <span class=\"age\"><a href=\"item?id=26750976\">3 hours ago</a></span> <span id=\"unv_26750976\"></span> | <a href=\"hide?id=26750976&amp;goto=news\">hide</a> | <a href=\"item?id=26750976\">17&nbsp;comments</a>              </td></tr>\n",
      "      <tr class=\"spacer\" style=\"height:5px\"></tr>\n",
      "                <tr class='athing' id='26751222'>\n",
      "      <td align=\"right\" valign=\"top\" class=\"title\"><span class=\"rank\">3.</span></td>      <td valign=\"top\" class=\"votelinks\"><center><a id='up_26751222' href='vote?id=26751222&amp;how=up&amp;goto=news'><div class='votearrow' title='upvote'></div></a></center></td><td class=\"title\"><a href=\"https://sci-hub.se/10.1093/teamat/2.2.55\" class=\"storylink\">Oliver Heaviside (1850-1925) – Physical Mathematician (1983)</a><span class=\"sitebit comhead\"> (<a href=\"from?site=sci-hub.se\"><span class=\"sitestr\">sci-hub.se</span></a>)</span></td></tr><tr><td colspan=\"2\"></td><td class=\"subtext\">\n",
      "        <span class=\"score\" id=\"score_26751222\">58 points</span> by <a href=\"user?id=agnosticmantis\" class=\"hnuser\">agnosticmantis</a> <span class=\"age\"><a href=\"item?id=26751222\">2 hours ago</a></span> <span id=\"unv_26751222\"></span> | <a href=\"hide?id=26751222&amp;goto=news\">hide</a> | <a href=\"item?id=26751222\">16&nbsp;comments</a>              </td></tr>\n",
      "      <tr class=\"spacer\" style=\"height:5px\"></tr>\n",
      "                <tr class='athing' id='26747136'>\n",
      "      <td align=\"right\" valign=\"top\" class=\"title\"><span class=\"rank\">4.</span></td>      <td valign=\"top\" class=\"votelinks\"><center><a id='up_26747136' href='vote?id=26747136&amp;how=up&amp;goto=news'><div class='votearrow' title='upvote'></div></a></center></td><td class=\"title\"><a href=\"https://codaris.github.io/UnderDeskBike/\" class=\"storylink\">Hacking a $200 Under Desk Exercise Bike</a><span class=\"sitebit comhead\"> (<a href=\"from?site=codaris.github.io\"><span class=\"sitestr\">codaris.github.io</span></a>)</span></td></tr><tr><td colspan=\"2\"></td><td class=\"subtext\">\n",
      "        <span class=\"score\" id=\"score_26747136\">55 points</span> by <a href=\"user?id=wvenable\" class=\"hnuser\">wvenable</a> <span class=\"age\"><a href=\"item?id=26747136\">2 hours ago</a></span> <span id=\"unv_26747136\"></span> | <a href=\"hide?id=26747136&amp;goto=news\">hide</a> | <a href=\"item?id=26747136\">30&nbsp;comments</a>              </td></tr>\n",
      "      <tr class=\"spacer\" style=\"height:5px\"></tr>\n",
      "                <tr class='athing' id='26751130'>\n",
      "      <td align=\"right\" valign=\"top\" class=\"title\"><span class=\"rank\">5.</span></td>      <td valign=\"top\" class=\"votelinks\"><center><a id='up_26751130' href='vote?id=26751130&amp;how=up&amp;goto=news'><div class='votearrow' title='upvote'></div></a></center></td><td class=\"title\"><a href=\"https://blog.trailofbits.com/2021/03/23/a-year-in-the-life-of-a-compiler-fuzzing-campaign/\" class=\"storylink\">A Year in the Life of a Compiler Fuzzing Campaign</a><span class=\"sitebit comhead\"> (<a href=\"from?site=trailofbits.com\"><span class=\"sitestr\">trailofbits.com</span></a>)</span></td></tr><tr><td colspan=\"2\"></td><td class=\"subtext\">\n",
      "        <span class=\"score\" id=\"score_26751130\">56 points</span> by <a href=\"user?id=axiomdata316\" class=\"hnuser\">axiomdata316</a> <span class=\"age\"><a href=\"item?id=26751130\">3 hours ago</a></span> <span id=\"unv_26751130\"></span> | <a href=\"hide?id=26751130&amp;goto=news\">hide</a> | <a href=\"item?id=26751130\">1&nbsp;comment</a>              </td></tr>\n",
      "      <tr class=\"spacer\" style=\"height:5px\"></tr>\n",
      "                <tr class='athing' id='26746983'>\n",
      "      <td align=\"right\" valign=\"top\" class=\"title\"><span class=\"rank\">6.</span></td>      <td valign=\"top\" class=\"votelinks\"><center><a id='up_26746983' href='vote?id=26746983&amp;how=up&amp;goto=news'><div class='votearrow' title='upvote'></div></a></center></td><td class=\"title\"><a href=\"https://git.kernel.org/pub/scm/linux/kernel/git/soc/soc.git/commit/?h=for-next&amp;id=0d5fe4b31785b732b71e764b55cda5c8d6e3bbbf\" class=\"storylink\">Initial M1 support merged into Linux SoC tree</a><span class=\"sitebit comhead\"> (<a href=\"from?site=kernel.org\"><span class=\"sitestr\">kernel.org</span></a>)</span></td></tr><tr><td colspan=\"2\"></td><td class=\"subtext\">\n",
      "        <span class=\"score\" id=\"score_26746983\">537 points</span> by <a href=\"user?id=joseluisq\" class=\"hnuser\">joseluisq</a> <span class=\"age\"><a href=\"item?id=26746983\">12 hours ago</a></span> <span id=\"unv_26746983\"></span> | <a href=\"hide?id=26746983&amp;goto=news\">hide</a> | <a href=\"item?id=26746983\">290&nbsp;comments</a>              </td></tr>\n",
      "      <tr class=\"spacer\" style=\"height:5px\"></tr>\n",
      "                <tr class='athing' id='26752995'>\n",
      "      <td align=\"right\" valign=\"top\" class=\"title\"><span class=\"rank\">7.</span></td>      <td></td><td class=\"title\"><a href=\"https://www.workatastartup.com/jobs/42895\" class=\"storylink\" rel=\"nofollow\">Bentocart (YC W19) Is Hiring Restaurant Partnership and Sales</a><span class=\"sitebit comhead\"> (<a href=\"from?site=workatastartup.com\"><span class=\"sitestr\">workatastartup.com</span></a>)</span></td></tr><tr><td colspan=\"2\"></td><td class=\"subtext\">\n",
      "        <span class=\"age\"><a href=\"item?id=26752995\">44 minutes ago</a></span> | <a href=\"hide?id=26752995&amp;goto=news\">hide</a>      </td></tr>\n",
      "      <tr class=\"spacer\" style=\"height:5px\"></tr>\n",
      "                <tr class='athing' id='26737064'>\n",
      "      <td align=\"right\" valign=\"top\" class=\"title\"><span class=\"rank\">8.</span></td>      <td valign=\"top\" class=\"votelinks\"><center><a id='up_26737064' href='vote?id=26737064&amp;how=up&amp;goto=news'><div class='votearrow' title='upvote'></div></a></center></td><td class=\"title\"><a href=\"https://karlgroves.com/2013/05/14/links-are-not-buttons-neither-are-divs-and-spans/\" class=\"storylink\">Links Are Not Buttons (2013)</a><span class=\"sitebit comhead\"> (<a href=\"from?site=karlgroves.com\"><span class=\"sitestr\">karlgroves.com</span></a>)</span></td></tr><tr><td colspan=\"2\"></td><td class=\"subtext\">\n",
      "        <span class=\"score\" id=\"score_26737064\">13 points</span> by <a href=\"user?id=Fiveplus\" class=\"hnuser\">Fiveplus</a> <span class=\"age\"><a href=\"item?id=26737064\">1 hour ago</a></span> <span id=\"unv_26737064\"></span> | <a href=\"hide?id=26737064&amp;goto=news\">hide</a> | <a href=\"item?id=26737064\">1&nbsp;comment</a>              </td></tr>\n",
      "      <tr class=\"spacer\" style=\"height:5px\"></tr>\n",
      "                <tr class='athing' id='26751562'>\n",
      "      <td align=\"right\" valign=\"top\" class=\"title\"><span class=\"rank\">9.</span></td>      <td valign=\"top\" class=\"votelinks\"><center><a id='up_26751562' href='vote?id=26751562&amp;how=up&amp;goto=news'><div class='votearrow' title='upvote'></div></a></center></td><td class=\"title\"><a href=\"https://www.wsj.com/articles/amazon-is-ahead-in-union-vote-as-tallying-set-to-resume-11617960604\" class=\"storylink\">Amazon workers vote against unionizing in Alabama</a><span class=\"sitebit comhead\"> (<a href=\"from?site=wsj.com\"><span class=\"sitestr\">wsj.com</span></a>)</span></td></tr><tr><td colspan=\"2\"></td><td class=\"subtext\">\n",
      "        <span class=\"score\" id=\"score_26751562\">219 points</span> by <a href=\"user?id=cwwc\" class=\"hnuser\">cwwc</a> <span class=\"age\"><a href=\"item?id=26751562\">2 hours ago</a></span> <span id=\"unv_26751562\"></span> | <a href=\"hide?id=26751562&amp;goto=news\">hide</a> | <a href=\"item?id=26751562\">462&nbsp;comments</a>              </td></tr>\n",
      "      <tr class=\"spacer\" style=\"height:5px\"></tr>\n",
      "                <tr class='athing' id='26745248'>\n",
      "      <td align=\"right\" valign=\"top\" class=\"title\"><span class=\"rank\">10.</span></td>      <td valign=\"top\" class=\"votelinks\"><center><a id='up_26745248' href='vote?id=26745248&amp;how=up&amp;goto=news'><div class='votearrow' title='upvote'></div></a></center></td><td class=\"title\"><a href=\"https://en.wikipedia.org/wiki/Silphium\" class=\"storylink\">Silphium</a><span class=\"sitebit comhead\"> (<a href=\"from?site=wikipedia.org\"><span class=\"sitestr\">wikipedia.org</span></a>)</span></td></tr><tr><td colspan=\"2\"></td><td class=\"subtext\">\n",
      "        <span class=\"score\" id=\"score_26745248\">69 points</span> by <a href=\"user?id=benbreen\" class=\"hnuser\">benbreen</a> <span class=\"age\"><a href=\"item?id=26745248\">3 hours ago</a></span> <span id=\"unv_26745248\"></span> | <a href=\"hide?id=26745248&amp;goto=news\">hide</a> | <a href=\"item?id=26745248\">10&nbsp;comments</a>              </td></tr>\n",
      "      <tr class=\"spacer\" style=\"height:5px\"></tr>\n",
      "                <tr class='athing' id='26752721'>\n",
      "      <td align=\"right\" valign=\"top\" class=\"title\"><span class=\"rank\">11.</span></td>      <td valign=\"top\" class=\"votelinks\"><center><a id='up_26752721' href='vote?id=26752721&amp;how=up&amp;goto=news'><div class='votearrow' title='upvote'></div></a></center></td><td class=\"title\"><a href=\"https://www.sec.gov/news/press-release/2021-58\" class=\"storylink\">SEC Charges 1inMM Capital, LLC with Operating a $690M Ponzi Scheme</a><span class=\"sitebit comhead\"> (<a href=\"from?site=sec.gov\"><span class=\"sitestr\">sec.gov</span></a>)</span></td></tr><tr><td colspan=\"2\"></td><td class=\"subtext\">\n",
      "        <span class=\"score\" id=\"score_26752721\">9 points</span> by <a href=\"user?id=prostoalex\" class=\"hnuser\">prostoalex</a> <span class=\"age\"><a href=\"item?id=26752721\">1 hour ago</a></span> <span id=\"unv_26752721\"></span> | <a href=\"hide?id=26752721&amp;goto=news\">hide</a> | <a href=\"item?id=26752721\">discuss</a>              </td></tr>\n",
      "      <tr class=\"spacer\" style=\"height:5px\"></tr>\n",
      "                <tr class='athing' id='26752710'>\n",
      "      <td align=\"right\" valign=\"top\" class=\"title\"><span class=\"rank\">12.</span></td>      <td valign=\"top\" class=\"votelinks\"><center><a id='up_26752710' href='vote?id=26752710&amp;how=up&amp;goto=news'><div class='votearrow' title='upvote'></div></a></center></td><td class=\"title\"><a href=\"https://acoup.blog/2021/04/09/collections-clothing-how-did-they-make-it-part-ivb-cloth-money/\" class=\"storylink\">Clothing, How Did They Make It? Part IVb: Cloth Money</a><span class=\"sitebit comhead\"> (<a href=\"from?site=acoup.blog\"><span class=\"sitestr\">acoup.blog</span></a>)</span></td></tr><tr><td colspan=\"2\"></td><td class=\"subtext\">\n",
      "        <span class=\"score\" id=\"score_26752710\">6 points</span> by <a href=\"user?id=parsecs\" class=\"hnuser\">parsecs</a> <span class=\"age\"><a href=\"item?id=26752710\">1 hour ago</a></span> <span id=\"unv_26752710\"></span> | <a href=\"hide?id=26752710&amp;goto=news\">hide</a> | <a href=\"item?id=26752710\">1&nbsp;comment</a>              </td></tr>\n",
      "      <tr class=\"spacer\" style=\"height:5px\"></tr>\n",
      "                <tr class='athing' id='26752087'>\n",
      "      <td align=\"right\" valign=\"top\" class=\"title\"><span class=\"rank\">13.</span></td>      <td valign=\"top\" class=\"votelinks\"><center><a id='up_26752087' href='vote?id=26752087&amp;how=up&amp;goto=news'><div class='votearrow' title='upvote'></div></a></center></td><td class=\"title\"><a href=\"https://www.youtube.com/watch?v=JMxr8Nq-w_w\" class=\"storylink\">The Human Eye Webcam [video]</a><span class=\"sitebit comhead\"> (<a href=\"from?site=youtube.com\"><span class=\"sitestr\">youtube.com</span></a>)</span></td></tr><tr><td colspan=\"2\"></td><td class=\"subtext\">\n",
      "        <span class=\"score\" id=\"score_26752087\">66 points</span> by <a href=\"user?id=zdw\" class=\"hnuser\">zdw</a> <span class=\"age\"><a href=\"item?id=26752087\">1 hour ago</a></span> <span id=\"unv_26752087\"></span> | <a href=\"hide?id=26752087&amp;goto=news\">hide</a> | <a href=\"item?id=26752087\">28&nbsp;comments</a>              </td></tr>\n",
      "      <tr class=\"spacer\" style=\"height:5px\"></tr>\n",
      "                <tr class='athing' id='26735293'>\n",
      "      <td align=\"right\" valign=\"top\" class=\"title\"><span class=\"rank\">14.</span></td>      <td valign=\"top\" class=\"votelinks\"><center><a id='up_26735293' href='vote?id=26735293&amp;how=up&amp;goto=news'><div class='votearrow' title='upvote'></div></a></center></td><td class=\"title\"><a href=\"https://www.laphamsquarterly.org/technology/greeks-bearing-gifts\" class=\"storylink\">Greeks Bearing Gifts: tracking the labyrinthine path of technology’s progress</a><span class=\"sitebit comhead\"> (<a href=\"from?site=laphamsquarterly.org\"><span class=\"sitestr\">laphamsquarterly.org</span></a>)</span></td></tr><tr><td colspan=\"2\"></td><td class=\"subtext\">\n",
      "        <span class=\"score\" id=\"score_26735293\">32 points</span> by <a href=\"user?id=Hooke\" class=\"hnuser\">Hooke</a> <span class=\"age\"><a href=\"item?id=26735293\">4 hours ago</a></span> <span id=\"unv_26735293\"></span> | <a href=\"hide?id=26735293&amp;goto=news\">hide</a> | <a href=\"item?id=26735293\">discuss</a>              </td></tr>\n",
      "      <tr class=\"spacer\" style=\"height:5px\"></tr>\n",
      "                <tr class='athing' id='26746280'>\n",
      "      <td align=\"right\" valign=\"top\" class=\"title\"><span class=\"rank\">15.</span></td>      <td valign=\"top\" class=\"votelinks\"><center><a id='up_26746280' href='vote?id=26746280&amp;how=up&amp;goto=news'><div class='votearrow' title='upvote'></div></a></center></td><td class=\"title\"><a href=\"https://fly.io/blog/docker-without-docker/\" class=\"storylink\">Docker without Docker</a><span class=\"sitebit comhead\"> (<a href=\"from?site=fly.io\"><span class=\"sitestr\">fly.io</span></a>)</span></td></tr><tr><td colspan=\"2\"></td><td class=\"subtext\">\n",
      "        <span class=\"score\" id=\"score_26746280\">579 points</span> by <a href=\"user?id=kwindla\" class=\"hnuser\">kwindla</a> <span class=\"age\"><a href=\"item?id=26746280\">14 hours ago</a></span> <span id=\"unv_26746280\"></span> | <a href=\"hide?id=26746280&amp;goto=news\">hide</a> | <a href=\"item?id=26746280\">172&nbsp;comments</a>              </td></tr>\n",
      "      <tr class=\"spacer\" style=\"height:5px\"></tr>\n",
      "                <tr class='athing' id='26751621'>\n",
      "      <td align=\"right\" valign=\"top\" class=\"title\"><span class=\"rank\">16.</span></td>      <td valign=\"top\" class=\"votelinks\"><center><a id='up_26751621' href='vote?id=26751621&amp;how=up&amp;goto=news'><div class='votearrow' title='upvote'></div></a></center></td><td class=\"title\"><a href=\"https://twitter.com/EU_SST/status/1380120766071635968\" class=\"storylink\">Eu_sst: 20% probability for large satellite collision at 2021-04-09T17:18:21 UTC</a><span class=\"sitebit comhead\"> (<a href=\"from?site=twitter.com/eu_sst\"><span class=\"sitestr\">twitter.com/eu_sst</span></a>)</span></td></tr><tr><td colspan=\"2\"></td><td class=\"subtext\">\n",
      "        <span class=\"score\" id=\"score_26751621\">97 points</span> by <a href=\"user?id=AlphaGeekZulu\" class=\"hnuser\">AlphaGeekZulu</a> <span class=\"age\"><a href=\"item?id=26751621\">2 hours ago</a></span> <span id=\"unv_26751621\"></span> | <a href=\"hide?id=26751621&amp;goto=news\">hide</a> | <a href=\"item?id=26751621\">68&nbsp;comments</a>              </td></tr>\n",
      "      <tr class=\"spacer\" style=\"height:5px\"></tr>\n",
      "                <tr class='athing' id='26748696'>\n",
      "      <td align=\"right\" valign=\"top\" class=\"title\"><span class=\"rank\">17.</span></td>      <td valign=\"top\" class=\"votelinks\"><center><a id='up_26748696' href='vote?id=26748696&amp;how=up&amp;goto=news'><div class='votearrow' title='upvote'></div></a></center></td><td class=\"title\"><a href=\"https://tech.channable.com/posts/2021-04-09-nix-is-the-ultimate-devops-toolkit.html\" class=\"storylink\">Nix is the ultimate DevOps toolkit</a><span class=\"sitebit comhead\"> (<a href=\"from?site=channable.com\"><span class=\"sitestr\">channable.com</span></a>)</span></td></tr><tr><td colspan=\"2\"></td><td class=\"subtext\">\n",
      "        <span class=\"score\" id=\"score_26748696\">325 points</span> by <a href=\"user?id=rkrzr\" class=\"hnuser\">rkrzr</a> <span class=\"age\"><a href=\"item?id=26748696\">7 hours ago</a></span> <span id=\"unv_26748696\"></span> | <a href=\"hide?id=26748696&amp;goto=news\">hide</a> | <a href=\"item?id=26748696\">168&nbsp;comments</a>              </td></tr>\n",
      "      <tr class=\"spacer\" style=\"height:5px\"></tr>\n",
      "                <tr class='athing' id='26753190'>\n",
      "      <td align=\"right\" valign=\"top\" class=\"title\"><span class=\"rank\">18.</span></td>      <td valign=\"top\" class=\"votelinks\"><center><a id='up_26753190' href='vote?id=26753190&amp;how=up&amp;goto=news'><div class='votearrow' title='upvote'></div></a></center></td><td class=\"title\"><a href=\"https://github.com/breuleux/jurigged\" class=\"storylink\" rel=\"nofollow\">Jurigged – Hot code reloading for Python</a><span class=\"sitebit comhead\"> (<a href=\"from?site=github.com/breuleux\"><span class=\"sitestr\">github.com/breuleux</span></a>)</span></td></tr><tr><td colspan=\"2\"></td><td class=\"subtext\">\n",
      "        <span class=\"score\" id=\"score_26753190\">3 points</span> by <a href=\"user?id=breuleux\" class=\"hnuser\">breuleux</a> <span class=\"age\"><a href=\"item?id=26753190\">30 minutes ago</a></span> <span id=\"unv_26753190\"></span> | <a href=\"hide?id=26753190&amp;goto=news\">hide</a> | <a href=\"item?id=26753190\">discuss</a>              </td></tr>\n",
      "      <tr class=\"spacer\" style=\"height:5px\"></tr>\n",
      "                <tr class='athing' id='26750452'>\n",
      "      <td align=\"right\" valign=\"top\" class=\"title\"><span class=\"rank\">19.</span></td>      <td valign=\"top\" class=\"votelinks\"><center><a id='up_26750452' href='vote?id=26750452&amp;how=up&amp;goto=news'><div class='votearrow' title='upvote'></div></a></center></td><td class=\"title\"><a href=\"https://www.technologyreview.com/2021/03/18/1021030/coronavirus-leak-wuhan-lab-scientists-conspiracy/\" class=\"storylink\">Scientists who say the lab-leak hypothesis for SARS-CoV-2 shouldn't be ruled out</a><span class=\"sitebit comhead\"> (<a href=\"from?site=technologyreview.com\"><span class=\"sitestr\">technologyreview.com</span></a>)</span></td></tr><tr><td colspan=\"2\"></td><td class=\"subtext\">\n",
      "        <span class=\"score\" id=\"score_26750452\">126 points</span> by <a href=\"user?id=todd8\" class=\"hnuser\">todd8</a> <span class=\"age\"><a href=\"item?id=26750452\">3 hours ago</a></span> <span id=\"unv_26750452\"></span> | <a href=\"hide?id=26750452&amp;goto=news\">hide</a> | <a href=\"item?id=26750452\">122&nbsp;comments</a>              </td></tr>\n",
      "      <tr class=\"spacer\" style=\"height:5px\"></tr>\n",
      "                <tr class='athing' id='26747384'>\n",
      "      <td align=\"right\" valign=\"top\" class=\"title\"><span class=\"rank\">20.</span></td>      <td valign=\"top\" class=\"votelinks\"><center><a id='up_26747384' href='vote?id=26747384&amp;how=up&amp;goto=news'><div class='votearrow' title='upvote'></div></a></center></td><td class=\"title\"><a href=\"https://zserge.com/posts/bfaas/\" class=\"storylink\">Scalable, Resilient Brainfuck as a service</a><span class=\"sitebit comhead\"> (<a href=\"from?site=zserge.com\"><span class=\"sitestr\">zserge.com</span></a>)</span></td></tr><tr><td colspan=\"2\"></td><td class=\"subtext\">\n",
      "        <span class=\"score\" id=\"score_26747384\">183 points</span> by <a href=\"user?id=stevekemp\" class=\"hnuser\">stevekemp</a> <span class=\"age\"><a href=\"item?id=26747384\">10 hours ago</a></span> <span id=\"unv_26747384\"></span> | <a href=\"hide?id=26747384&amp;goto=news\">hide</a> | <a href=\"item?id=26747384\">28&nbsp;comments</a>              </td></tr>\n",
      "      <tr class=\"spacer\" style=\"height:5px\"></tr>\n",
      "                <tr class='athing' id='26748528'>\n",
      "      <td align=\"right\" valign=\"top\" class=\"title\"><span class=\"rank\">21.</span></td>      <td valign=\"top\" class=\"votelinks\"><center><a id='up_26748528' href='vote?id=26748528&amp;how=up&amp;goto=news'><div class='votearrow' title='upvote'></div></a></center></td><td class=\"title\"><a href=\"https://stefano.brilli.me/blog/web-minidisc/\" class=\"storylink\">The Web MiniDisc App (2020)</a><span class=\"sitebit comhead\"> (<a href=\"from?site=brilli.me\"><span class=\"sitestr\">brilli.me</span></a>)</span></td></tr><tr><td colspan=\"2\"></td><td class=\"subtext\">\n",
      "        <span class=\"score\" id=\"score_26748528\">119 points</span> by <a href=\"user?id=mocko\" class=\"hnuser\">mocko</a> <span class=\"age\"><a href=\"item?id=26748528\">7 hours ago</a></span> <span id=\"unv_26748528\"></span> | <a href=\"hide?id=26748528&amp;goto=news\">hide</a> | <a href=\"item?id=26748528\">53&nbsp;comments</a>              </td></tr>\n",
      "      <tr class=\"spacer\" style=\"height:5px\"></tr>\n",
      "                <tr class='athing' id='26748791'>\n",
      "      <td align=\"right\" valign=\"top\" class=\"title\"><span class=\"rank\">22.</span></td>      <td valign=\"top\" class=\"votelinks\"><center><a id='up_26748791' href='vote?id=26748791&amp;how=up&amp;goto=news'><div class='votearrow' title='upvote'></div></a></center></td><td class=\"title\"><a href=\"https://www.reuters.com/article/us-facebook-britain-reviews/facebook-axes-16000-accounts-for-trading-fake-reviews-after-uk-intervenes-idUSKBN2BW168\" class=\"storylink\">Facebook axes 16,000 accounts for trading fake reviews after UK intervenes</a><span class=\"sitebit comhead\"> (<a href=\"from?site=reuters.com\"><span class=\"sitestr\">reuters.com</span></a>)</span></td></tr><tr><td colspan=\"2\"></td><td class=\"subtext\">\n",
      "        <span class=\"score\" id=\"score_26748791\">60 points</span> by <a href=\"user?id=pseudolus\" class=\"hnuser\">pseudolus</a> <span class=\"age\"><a href=\"item?id=26748791\">7 hours ago</a></span> <span id=\"unv_26748791\"></span> | <a href=\"hide?id=26748791&amp;goto=news\">hide</a> | <a href=\"item?id=26748791\">36&nbsp;comments</a>              </td></tr>\n",
      "      <tr class=\"spacer\" style=\"height:5px\"></tr>\n",
      "                <tr class='athing' id='26749583'>\n",
      "      <td align=\"right\" valign=\"top\" class=\"title\"><span class=\"rank\">23.</span></td>      <td valign=\"top\" class=\"votelinks\"><center><a id='up_26749583' href='vote?id=26749583&amp;how=up&amp;goto=news'><div class='votearrow' title='upvote'></div></a></center></td><td class=\"title\"><a href=\"http://attic.apache.org/\" class=\"storylink\">The Apache Attic</a><span class=\"sitebit comhead\"> (<a href=\"from?site=apache.org\"><span class=\"sitestr\">apache.org</span></a>)</span></td></tr><tr><td colspan=\"2\"></td><td class=\"subtext\">\n",
      "        <span class=\"score\" id=\"score_26749583\">29 points</span> by <a href=\"user?id=doener\" class=\"hnuser\">doener</a> <span class=\"age\"><a href=\"item?id=26749583\">5 hours ago</a></span> <span id=\"unv_26749583\"></span> | <a href=\"hide?id=26749583&amp;goto=news\">hide</a> | <a href=\"item?id=26749583\">19&nbsp;comments</a>              </td></tr>\n",
      "      <tr class=\"spacer\" style=\"height:5px\"></tr>\n",
      "                <tr class='athing' id='26747513'>\n",
      "      <td align=\"right\" valign=\"top\" class=\"title\"><span class=\"rank\">24.</span></td>      <td valign=\"top\" class=\"votelinks\"><center><a id='up_26747513' href='vote?id=26747513&amp;how=up&amp;goto=news'><div class='votearrow' title='upvote'></div></a></center></td><td class=\"title\"><a href=\"https://bike-theft-map.bikmo.com/\" class=\"storylink\">Bike Theft Map</a><span class=\"sitebit comhead\"> (<a href=\"from?site=bikmo.com\"><span class=\"sitestr\">bikmo.com</span></a>)</span></td></tr><tr><td colspan=\"2\"></td><td class=\"subtext\">\n",
      "        <span class=\"score\" id=\"score_26747513\">95 points</span> by <a href=\"user?id=astre9\" class=\"hnuser\">astre9</a> <span class=\"age\"><a href=\"item?id=26747513\">10 hours ago</a></span> <span id=\"unv_26747513\"></span> | <a href=\"hide?id=26747513&amp;goto=news\">hide</a> | <a href=\"item?id=26747513\">139&nbsp;comments</a>              </td></tr>\n",
      "      <tr class=\"spacer\" style=\"height:5px\"></tr>\n",
      "                <tr class='athing' id='26752565'>\n",
      "      <td align=\"right\" valign=\"top\" class=\"title\"><span class=\"rank\">25.</span></td>      <td valign=\"top\" class=\"votelinks\"><center><a id='up_26752565' href='vote?id=26752565&amp;how=up&amp;goto=news'><div class='votearrow' title='upvote'></div></a></center></td><td class=\"title\"><a href=\"item?id=26752565\" class=\"storylink\">Ask HN: How do you solicit user feedback for your mobile app?</a></td></tr><tr><td colspan=\"2\"></td><td class=\"subtext\">\n",
      "        <span class=\"score\" id=\"score_26752565\">15 points</span> by <a href=\"user?id=boffinism\" class=\"hnuser\">boffinism</a> <span class=\"age\"><a href=\"item?id=26752565\">1 hour ago</a></span> <span id=\"unv_26752565\"></span> | <a href=\"hide?id=26752565&amp;goto=news\">hide</a> | <a href=\"item?id=26752565\">6&nbsp;comments</a>              </td></tr>\n",
      "      <tr class=\"spacer\" style=\"height:5px\"></tr>\n",
      "                <tr class='athing' id='26746674'>\n",
      "      <td align=\"right\" valign=\"top\" class=\"title\"><span class=\"rank\">26.</span></td>      <td valign=\"top\" class=\"votelinks\"><center><a id='up_26746674' href='vote?id=26746674&amp;how=up&amp;goto=news'><div class='votearrow' title='upvote'></div></a></center></td><td class=\"title\"><a href=\"https://github.com/openbsd/src/blob/c1d6f13173b788e34852a303bda0c5a53861979e/sys/sys/tree.h\" class=\"storylink\">Tree.h in OpenBSD: dependency-free intrusive binary tree (2002)</a><span class=\"sitebit comhead\"> (<a href=\"from?site=github.com/openbsd\"><span class=\"sitestr\">github.com/openbsd</span></a>)</span></td></tr><tr><td colspan=\"2\"></td><td class=\"subtext\">\n",
      "        <span class=\"score\" id=\"score_26746674\">99 points</span> by <a href=\"user?id=attractivechaos\" class=\"hnuser\">attractivechaos</a> <span class=\"age\"><a href=\"item?id=26746674\">13 hours ago</a></span> <span id=\"unv_26746674\"></span> | <a href=\"hide?id=26746674&amp;goto=news\">hide</a> | <a href=\"item?id=26746674\">36&nbsp;comments</a>              </td></tr>\n",
      "      <tr class=\"spacer\" style=\"height:5px\"></tr>\n",
      "                <tr class='athing' id='26746537'>\n",
      "      <td align=\"right\" valign=\"top\" class=\"title\"><span class=\"rank\">27.</span></td>      <td valign=\"top\" class=\"votelinks\"><center><a id='up_26746537' href='vote?id=26746537&amp;how=up&amp;goto=news'><div class='votearrow' title='upvote'></div></a></center></td><td class=\"title\"><a href=\"http://ffmpeg.org/index.html#pr4.4\" class=\"storylink\">FFmpeg 4.4</a><span class=\"sitebit comhead\"> (<a href=\"from?site=ffmpeg.org\"><span class=\"sitestr\">ffmpeg.org</span></a>)</span></td></tr><tr><td colspan=\"2\"></td><td class=\"subtext\">\n",
      "        <span class=\"score\" id=\"score_26746537\">327 points</span> by <a href=\"user?id=_Gyan_\" class=\"hnuser\">_Gyan_</a> <span class=\"age\"><a href=\"item?id=26746537\">13 hours ago</a></span> <span id=\"unv_26746537\"></span> | <a href=\"hide?id=26746537&amp;goto=news\">hide</a> | <a href=\"item?id=26746537\">118&nbsp;comments</a>              </td></tr>\n",
      "      <tr class=\"spacer\" style=\"height:5px\"></tr>\n",
      "                <tr class='athing' id='26748723'>\n",
      "      <td align=\"right\" valign=\"top\" class=\"title\"><span class=\"rank\">28.</span></td>      <td valign=\"top\" class=\"votelinks\"><center><a id='up_26748723' href='vote?id=26748723&amp;how=up&amp;goto=news'><div class='votearrow' title='upvote'></div></a></center></td><td class=\"title\"><a href=\"https://kwokchain.com/2021/02/05/atomic-concepts/\" class=\"storylink\">Figma and Canva are taking on Adobe, and winning</a><span class=\"sitebit comhead\"> (<a href=\"from?site=kwokchain.com\"><span class=\"sitestr\">kwokchain.com</span></a>)</span></td></tr><tr><td colspan=\"2\"></td><td class=\"subtext\">\n",
      "        <span class=\"score\" id=\"score_26748723\">121 points</span> by <a href=\"user?id=samulipehkonen\" class=\"hnuser\">samulipehkonen</a> <span class=\"age\"><a href=\"item?id=26748723\">7 hours ago</a></span> <span id=\"unv_26748723\"></span> | <a href=\"hide?id=26748723&amp;goto=news\">hide</a> | <a href=\"item?id=26748723\">137&nbsp;comments</a>              </td></tr>\n",
      "      <tr class=\"spacer\" style=\"height:5px\"></tr>\n",
      "                <tr class='athing' id='26745227'>\n",
      "      <td align=\"right\" valign=\"top\" class=\"title\"><span class=\"rank\">29.</span></td>      <td valign=\"top\" class=\"votelinks\"><center><a id='up_26745227' href='vote?id=26745227&amp;how=up&amp;goto=news'><div class='votearrow' title='upvote'></div></a></center></td><td class=\"title\"><a href=\"https://neuralink.com/blog/\" class=\"storylink\">Monkey MindPong</a><span class=\"sitebit comhead\"> (<a href=\"from?site=neuralink.com\"><span class=\"sitestr\">neuralink.com</span></a>)</span></td></tr><tr><td colspan=\"2\"></td><td class=\"subtext\">\n",
      "        <span class=\"score\" id=\"score_26745227\">604 points</span> by <a href=\"user?id=ag8\" class=\"hnuser\">ag8</a> <span class=\"age\"><a href=\"item?id=26745227\">17 hours ago</a></span> <span id=\"unv_26745227\"></span> | <a href=\"hide?id=26745227&amp;goto=news\">hide</a> | <a href=\"item?id=26745227\">241&nbsp;comments</a>              </td></tr>\n",
      "      <tr class=\"spacer\" style=\"height:5px\"></tr>\n",
      "                <tr class='athing' id='26746687'>\n",
      "      <td align=\"right\" valign=\"top\" class=\"title\"><span class=\"rank\">30.</span></td>      <td valign=\"top\" class=\"votelinks\"><center><a id='up_26746687' href='vote?id=26746687&amp;how=up&amp;goto=news'><div class='votearrow' title='upvote'></div></a></center></td><td class=\"title\"><a href=\"https://www.math.columbia.edu/~woit/wordpress/?p=12235\" class=\"storylink\">Hawking Hawking</a><span class=\"sitebit comhead\"> (<a href=\"from?site=columbia.edu\"><span class=\"sitestr\">columbia.edu</span></a>)</span></td></tr><tr><td colspan=\"2\"></td><td class=\"subtext\">\n",
      "        <span class=\"score\" id=\"score_26746687\">105 points</span> by <a href=\"user?id=chmaynard\" class=\"hnuser\">chmaynard</a> <span class=\"age\"><a href=\"item?id=26746687\">13 hours ago</a></span> <span id=\"unv_26746687\"></span> | <a href=\"hide?id=26746687&amp;goto=news\">hide</a> | <a href=\"item?id=26746687\">51&nbsp;comments</a>              </td></tr>\n",
      "      <tr class=\"spacer\" style=\"height:5px\"></tr>\n",
      "            <tr class=\"morespace\" style=\"height:10px\"></tr><tr><td colspan=\"2\"></td><td class=\"title\"><a href=\"news?p=2\" class=\"morelink\" rel=\"next\">More</a></td></tr>\n",
      "  </table>\n",
      "</td></tr>\n",
      "<tr><td><img src=\"s.gif\" height=\"10\" width=\"0\"><table width=\"100%\" cellspacing=\"0\" cellpadding=\"1\"><tr><td bgcolor=\"#ff6600\"></td></tr></table><br><center><span class=\"yclinks\"><a href=\"newsguidelines.html\">Guidelines</a>\n",
      "        | <a href=\"newsfaq.html\">FAQ</a>\n",
      "        | <a href=\"lists\">Lists</a>\n",
      "        | <a href=\"https://github.com/HackerNews/API\">API</a>\n",
      "        | <a href=\"security.html\">Security</a>\n",
      "        | <a href=\"http://www.ycombinator.com/legal/\">Legal</a>\n",
      "        | <a href=\"http://www.ycombinator.com/apply/\">Apply to YC</a>\n",
      "        | <a href=\"mailto:hn@ycombinator.com\">Contact</a></span><br><br><form method=\"get\" action=\"//hn.algolia.com/\">Search:\n",
      "          <input type=\"text\" name=\"q\" value=\"\" size=\"17\" autocorrect=\"off\" spellcheck=\"false\" autocapitalize=\"off\" autocomplete=\"false\"></form>\n",
      "            </center></td></tr>\n",
      "      </table></center></body><script type='text/javascript' src='hn.js?kYAZqEBDkZ1yesLxUECv'></script></html>\n",
      "\n"
     ]
    }
   ],
   "source": [
    "import requests\n",
    "\n",
    "# Fetch a web page\n",
    "r = requests.get(\"https://news.ycombinator.com\")\n",
    "print(r.text)"
   ]
  },
  {
   "cell_type": "code",
   "execution_count": 16,
   "metadata": {},
   "outputs": [
    {
     "name": "stdout",
     "output_type": "stream",
     "text": [
      "\n",
      "        \n",
      "          \n",
      "        Hacker News\n",
      "        \n",
      "                  Hacker News\n",
      "              new | past | comments | ask | show | jobs | submit            \n",
      "                              login\n",
      "                          \n",
      "              \n",
      "\n",
      "              \n",
      "      1.      Zoom zero-day discovery (malwarebytes.com)\n",
      "        294 points by alexrustic 5 hours ago  | hide | 151&nbsp;comments              \n",
      "      \n",
      "                \n",
      "      2.      HW accelerated Xwayland rendering for Nvidia merged (freedesktop.org)\n",
      "        79 points by luigifcruz 3 hours ago  | hide | 17&nbsp;comments              \n",
      "      \n",
      "                \n",
      "      3.      Oliver Heaviside (1850-1925) – Physical Mathematician (1983) (sci-hub.se)\n",
      "        58 points by agnosticmantis 2 hours ago  | hide | 16&nbsp;comments              \n",
      "      \n",
      "                \n",
      "      4.      Hacking a $200 Under Desk Exercise Bike (codaris.github.io)\n",
      "        55 points by wvenable 2 hours ago  | hide | 30&nbsp;comments              \n",
      "      \n",
      "                \n",
      "      5.      A Year in the Life of a Compiler Fuzzing Campaign (trailofbits.com)\n",
      "        56 points by axiomdata316 3 hours ago  | hide | 1&nbsp;comment              \n",
      "      \n",
      "                \n",
      "      6.      Initial M1 support merged into Linux SoC tree (kernel.org)\n",
      "        537 points by joseluisq 12 hours ago  | hide | 290&nbsp;comments              \n",
      "      \n",
      "                \n",
      "      7.      Bentocart (YC W19) Is Hiring Restaurant Partnership and Sales (workatastartup.com)\n",
      "        44 minutes ago | hide      \n",
      "      \n",
      "                \n",
      "      8.      Links Are Not Buttons (2013) (karlgroves.com)\n",
      "        13 points by Fiveplus 1 hour ago  | hide | 1&nbsp;comment              \n",
      "      \n",
      "                \n",
      "      9.      Amazon workers vote against unionizing in Alabama (wsj.com)\n",
      "        219 points by cwwc 2 hours ago  | hide | 462&nbsp;comments              \n",
      "      \n",
      "                \n",
      "      10.      Silphium (wikipedia.org)\n",
      "        69 points by benbreen 3 hours ago  | hide | 10&nbsp;comments              \n",
      "      \n",
      "                \n",
      "      11.      SEC Charges 1inMM Capital, LLC with Operating a $690M Ponzi Scheme (sec.gov)\n",
      "        9 points by prostoalex 1 hour ago  | hide | discuss              \n",
      "      \n",
      "                \n",
      "      12.      Clothing, How Did They Make It? Part IVb: Cloth Money (acoup.blog)\n",
      "        6 points by parsecs 1 hour ago  | hide | 1&nbsp;comment              \n",
      "      \n",
      "                \n",
      "      13.      The Human Eye Webcam [video] (youtube.com)\n",
      "        66 points by zdw 1 hour ago  | hide | 28&nbsp;comments              \n",
      "      \n",
      "                \n",
      "      14.      Greeks Bearing Gifts: tracking the labyrinthine path of technology’s progress (laphamsquarterly.org)\n",
      "        32 points by Hooke 4 hours ago  | hide | discuss              \n",
      "      \n",
      "                \n",
      "      15.      Docker without Docker (fly.io)\n",
      "        579 points by kwindla 14 hours ago  | hide | 172&nbsp;comments              \n",
      "      \n",
      "                \n",
      "      16.      Eu_sst: 20% probability for large satellite collision at 2021-04-09T17:18:21 UTC (twitter.com/eu_sst)\n",
      "        97 points by AlphaGeekZulu 2 hours ago  | hide | 68&nbsp;comments              \n",
      "      \n",
      "                \n",
      "      17.      Nix is the ultimate DevOps toolkit (channable.com)\n",
      "        325 points by rkrzr 7 hours ago  | hide | 168&nbsp;comments              \n",
      "      \n",
      "                \n",
      "      18.      Jurigged – Hot code reloading for Python (github.com/breuleux)\n",
      "        3 points by breuleux 30 minutes ago  | hide | discuss              \n",
      "      \n",
      "                \n",
      "      19.      Scientists who say the lab-leak hypothesis for SARS-CoV-2 shouldn't be ruled out (technologyreview.com)\n",
      "        126 points by todd8 3 hours ago  | hide | 122&nbsp;comments              \n",
      "      \n",
      "                \n",
      "      20.      Scalable, Resilient Brainfuck as a service (zserge.com)\n",
      "        183 points by stevekemp 10 hours ago  | hide | 28&nbsp;comments              \n",
      "      \n",
      "                \n",
      "      21.      The Web MiniDisc App (2020) (brilli.me)\n",
      "        119 points by mocko 7 hours ago  | hide | 53&nbsp;comments              \n",
      "      \n",
      "                \n",
      "      22.      Facebook axes 16,000 accounts for trading fake reviews after UK intervenes (reuters.com)\n",
      "        60 points by pseudolus 7 hours ago  | hide | 36&nbsp;comments              \n",
      "      \n",
      "                \n",
      "      23.      The Apache Attic (apache.org)\n",
      "        29 points by doener 5 hours ago  | hide | 19&nbsp;comments              \n",
      "      \n",
      "                \n",
      "      24.      Bike Theft Map (bikmo.com)\n",
      "        95 points by astre9 10 hours ago  | hide | 139&nbsp;comments              \n",
      "      \n",
      "                \n",
      "      25.      Ask HN: How do you solicit user feedback for your mobile app?\n",
      "        15 points by boffinism 1 hour ago  | hide | 6&nbsp;comments              \n",
      "      \n",
      "                \n",
      "      26.      Tree.h in OpenBSD: dependency-free intrusive binary tree (2002) (github.com/openbsd)\n",
      "        99 points by attractivechaos 13 hours ago  | hide | 36&nbsp;comments              \n",
      "      \n",
      "                \n",
      "      27.      FFmpeg 4.4 (ffmpeg.org)\n",
      "        327 points by _Gyan_ 13 hours ago  | hide | 118&nbsp;comments              \n",
      "      \n",
      "                \n",
      "      28.      Figma and Canva are taking on Adobe, and winning (kwokchain.com)\n",
      "        121 points by samulipehkonen 7 hours ago  | hide | 137&nbsp;comments              \n",
      "      \n",
      "                \n",
      "      29.      Monkey MindPong (neuralink.com)\n",
      "        604 points by ag8 17 hours ago  | hide | 241&nbsp;comments              \n",
      "      \n",
      "                \n",
      "      30.      Hawking Hawking (columbia.edu)\n",
      "        105 points by chmaynard 13 hours ago  | hide | 51&nbsp;comments              \n",
      "      \n",
      "            More\n",
      "  \n",
      "\n",
      "Guidelines\n",
      "        | FAQ\n",
      "        | Lists\n",
      "        | API\n",
      "        | Security\n",
      "        | Legal\n",
      "        | Apply to YC\n",
      "        | ContactSearch:\n",
      "          \n",
      "            \n",
      "      \n",
      "\n"
     ]
    }
   ],
   "source": [
    "import re\n",
    "\n",
    "# Remove HTML tags using RegEx\n",
    "pattern = re.compile(r'<.*?>')  # tags look like <...>\n",
    "print(pattern.sub('', r.text))  # replace them with blank"
   ]
  },
  {
   "cell_type": "code",
   "execution_count": 17,
   "metadata": {},
   "outputs": [
    {
     "name": "stdout",
     "output_type": "stream",
     "text": [
      "\n",
      "        \n",
      "          \n",
      "        Hacker News\n",
      "        \n",
      "                  Hacker News\n",
      "              new | past | comments | ask | show | jobs | submit            \n",
      "                              login\n",
      "                          \n",
      "              \n",
      "\n",
      "              \n",
      "      1.      Zoom zero-day discovery (malwarebytes.com)\n",
      "        294 points by alexrustic 5 hours ago  | hide | 151 comments              \n",
      "      \n",
      "                \n",
      "      2.      HW accelerated Xwayland rendering for Nvidia merged (freedesktop.org)\n",
      "        79 points by luigifcruz 3 hours ago  | hide | 17 comments              \n",
      "      \n",
      "                \n",
      "      3.      Oliver Heaviside (1850-1925) – Physical Mathematician (1983) (sci-hub.se)\n",
      "        58 points by agnosticmantis 2 hours ago  | hide | 16 comments              \n",
      "      \n",
      "                \n",
      "      4.      Hacking a $200 Under Desk Exercise Bike (codaris.github.io)\n",
      "        55 points by wvenable 2 hours ago  | hide | 30 comments              \n",
      "      \n",
      "                \n",
      "      5.      A Year in the Life of a Compiler Fuzzing Campaign (trailofbits.com)\n",
      "        56 points by axiomdata316 3 hours ago  | hide | 1 comment              \n",
      "      \n",
      "                \n",
      "      6.      Initial M1 support merged into Linux SoC tree (kernel.org)\n",
      "        537 points by joseluisq 12 hours ago  | hide | 290 comments              \n",
      "      \n",
      "                \n",
      "      7.      Bentocart (YC W19) Is Hiring Restaurant Partnership and Sales (workatastartup.com)\n",
      "        44 minutes ago | hide      \n",
      "      \n",
      "                \n",
      "      8.      Links Are Not Buttons (2013) (karlgroves.com)\n",
      "        13 points by Fiveplus 1 hour ago  | hide | 1 comment              \n",
      "      \n",
      "                \n",
      "      9.      Amazon workers vote against unionizing in Alabama (wsj.com)\n",
      "        219 points by cwwc 2 hours ago  | hide | 462 comments              \n",
      "      \n",
      "                \n",
      "      10.      Silphium (wikipedia.org)\n",
      "        69 points by benbreen 3 hours ago  | hide | 10 comments              \n",
      "      \n",
      "                \n",
      "      11.      SEC Charges 1inMM Capital, LLC with Operating a $690M Ponzi Scheme (sec.gov)\n",
      "        9 points by prostoalex 1 hour ago  | hide | discuss              \n",
      "      \n",
      "                \n",
      "      12.      Clothing, How Did They Make It? Part IVb: Cloth Money (acoup.blog)\n",
      "        6 points by parsecs 1 hour ago  | hide | 1 comment              \n",
      "      \n",
      "                \n",
      "      13.      The Human Eye Webcam [video] (youtube.com)\n",
      "        66 points by zdw 1 hour ago  | hide | 28 comments              \n",
      "      \n",
      "                \n",
      "      14.      Greeks Bearing Gifts: tracking the labyrinthine path of technology’s progress (laphamsquarterly.org)\n",
      "        32 points by Hooke 4 hours ago  | hide | discuss              \n",
      "      \n",
      "                \n",
      "      15.      Docker without Docker (fly.io)\n",
      "        579 points by kwindla 14 hours ago  | hide | 172 comments              \n",
      "      \n",
      "                \n",
      "      16.      Eu_sst: 20% probability for large satellite collision at 2021-04-09T17:18:21 UTC (twitter.com/eu_sst)\n",
      "        97 points by AlphaGeekZulu 2 hours ago  | hide | 68 comments              \n",
      "      \n",
      "                \n",
      "      17.      Nix is the ultimate DevOps toolkit (channable.com)\n",
      "        325 points by rkrzr 7 hours ago  | hide | 168 comments              \n",
      "      \n",
      "                \n",
      "      18.      Jurigged – Hot code reloading for Python (github.com/breuleux)\n",
      "        3 points by breuleux 30 minutes ago  | hide | discuss              \n",
      "      \n",
      "                \n",
      "      19.      Scientists who say the lab-leak hypothesis for SARS-CoV-2 shouldn't be ruled out (technologyreview.com)\n",
      "        126 points by todd8 3 hours ago  | hide | 122 comments              \n",
      "      \n",
      "                \n",
      "      20.      Scalable, Resilient Brainfuck as a service (zserge.com)\n",
      "        183 points by stevekemp 10 hours ago  | hide | 28 comments              \n",
      "      \n",
      "                \n",
      "      21.      The Web MiniDisc App (2020) (brilli.me)\n",
      "        119 points by mocko 7 hours ago  | hide | 53 comments              \n",
      "      \n",
      "                \n",
      "      22.      Facebook axes 16,000 accounts for trading fake reviews after UK intervenes (reuters.com)\n",
      "        60 points by pseudolus 7 hours ago  | hide | 36 comments              \n",
      "      \n",
      "                \n",
      "      23.      The Apache Attic (apache.org)\n",
      "        29 points by doener 5 hours ago  | hide | 19 comments              \n",
      "      \n",
      "                \n",
      "      24.      Bike Theft Map (bikmo.com)\n",
      "        95 points by astre9 10 hours ago  | hide | 139 comments              \n",
      "      \n",
      "                \n",
      "      25.      Ask HN: How do you solicit user feedback for your mobile app?\n",
      "        15 points by boffinism 1 hour ago  | hide | 6 comments              \n",
      "      \n",
      "                \n",
      "      26.      Tree.h in OpenBSD: dependency-free intrusive binary tree (2002) (github.com/openbsd)\n",
      "        99 points by attractivechaos 13 hours ago  | hide | 36 comments              \n",
      "      \n",
      "                \n",
      "      27.      FFmpeg 4.4 (ffmpeg.org)\n",
      "        327 points by _Gyan_ 13 hours ago  | hide | 118 comments              \n",
      "      \n",
      "                \n",
      "      28.      Figma and Canva are taking on Adobe, and winning (kwokchain.com)\n",
      "        121 points by samulipehkonen 7 hours ago  | hide | 137 comments              \n",
      "      \n",
      "                \n",
      "      29.      Monkey MindPong (neuralink.com)\n",
      "        604 points by ag8 17 hours ago  | hide | 241 comments              \n",
      "      \n",
      "                \n",
      "      30.      Hawking Hawking (columbia.edu)\n",
      "        105 points by chmaynard 13 hours ago  | hide | 51 comments              \n",
      "      \n",
      "            More\n",
      "  \n",
      "\n",
      "Guidelines\n",
      "        | FAQ\n",
      "        | Lists\n",
      "        | API\n",
      "        | Security\n",
      "        | Legal\n",
      "        | Apply to YC\n",
      "        | ContactSearch:\n",
      "          \n",
      "            \n",
      "      \n",
      "\n"
     ]
    }
   ],
   "source": [
    "from bs4 import BeautifulSoup\n",
    "\n",
    "# Remove HTML tags using Beautiful Soup library\n",
    "soup = BeautifulSoup(r.text, \"html5lib\")\n",
    "print(soup.get_text())"
   ]
  },
  {
   "cell_type": "code",
   "execution_count": 18,
   "metadata": {
    "scrolled": true
   },
   "outputs": [
    {
     "data": {
      "text/plain": [
       "<tr class=\"athing\" id=\"26749350\">\n",
       "      <td align=\"right\" class=\"title\" valign=\"top\"><span class=\"rank\">1.</span></td>      <td class=\"votelinks\" valign=\"top\"><center><a href=\"vote?id=26749350&amp;how=up&amp;goto=news\" id=\"up_26749350\"><div class=\"votearrow\" title=\"upvote\"></div></a></center></td><td class=\"title\"><a class=\"storylink\" href=\"https://blog.malwarebytes.com/exploits-and-vulnerabilities/2021/04/zoom-zero-day-discovery-makes-calls-safer-hackers-200000-richer/\">Zoom zero-day discovery</a><span class=\"sitebit comhead\"> (<a href=\"from?site=malwarebytes.com\"><span class=\"sitestr\">malwarebytes.com</span></a>)</span></td></tr>"
      ]
     },
     "execution_count": 18,
     "metadata": {},
     "output_type": "execute_result"
    }
   ],
   "source": [
    "# Find all articles\n",
    "summaries = soup.find_all(\"tr\", class_=\"athing\")\n",
    "summaries[0]"
   ]
  },
  {
   "cell_type": "code",
   "execution_count": 19,
   "metadata": {},
   "outputs": [
    {
     "data": {
      "text/plain": [
       "'Zoom zero-day discovery'"
      ]
     },
     "execution_count": 19,
     "metadata": {},
     "output_type": "execute_result"
    }
   ],
   "source": [
    "# Extract title\n",
    "summaries[0].find(\"a\", class_=\"storylink\").get_text().strip()"
   ]
  },
  {
   "cell_type": "code",
   "execution_count": 21,
   "metadata": {},
   "outputs": [
    {
     "name": "stdout",
     "output_type": "stream",
     "text": [
      "30 Article summaries found. Sample:\n",
      "['Zoom zero-day discovery', 'HW accelerated Xwayland rendering for Nvidia merged', 'Oliver Heaviside (1850-1925) – Physical Mathematician (1983)', 'Hacking a $200 Under Desk Exercise Bike', 'A Year in the Life of a Compiler Fuzzing Campaign', 'Initial M1 support merged into Linux SoC tree', 'Bentocart (YC W19) Is Hiring Restaurant Partnership and Sales', 'Links Are Not Buttons (2013)', 'Amazon workers vote against unionizing in Alabama', 'Silphium', 'SEC Charges 1inMM Capital, LLC with Operating a $690M Ponzi Scheme', 'Clothing, How Did They Make It? Part IVb: Cloth Money', 'The Human Eye Webcam [video]', 'Greeks Bearing Gifts: tracking the labyrinthine path of technology’s progress', 'Docker without Docker', 'Eu_sst: 20% probability for large satellite collision at 2021-04-09T17:18:21 UTC', 'Nix is the ultimate DevOps toolkit', 'Jurigged – Hot code reloading for Python', \"Scientists who say the lab-leak hypothesis for SARS-CoV-2 shouldn't be ruled out\", 'Scalable, Resilient Brainfuck as a service', 'The Web MiniDisc App (2020)', 'Facebook axes 16,000 accounts for trading fake reviews after UK intervenes', 'The Apache Attic', 'Bike Theft Map', 'Ask HN: How do you solicit user feedback for your mobile app?', 'Tree.h in OpenBSD: dependency-free intrusive binary tree (2002)', 'FFmpeg 4.4', 'Figma and Canva are taking on Adobe, and winning', 'Monkey MindPong', 'Hawking Hawking']\n"
     ]
    }
   ],
   "source": [
    "# Find all articles, extract titles\n",
    "articles = []\n",
    "summaries = soup.find_all(\"tr\", class_=\"athing\")\n",
    "for summary in summaries:\n",
    "    title = summary.find(\"a\", class_=\"storylink\").get_text().strip()\n",
    "    articles.append((title))\n",
    "\n",
    "print(len(articles), \"Article summaries found. Sample:\")\n",
    "print(articles)"
   ]
  },
  {
   "cell_type": "markdown",
   "metadata": {
    "collapsed": true
   },
   "source": [
    "## Normalization"
   ]
  },
  {
   "cell_type": "markdown",
   "metadata": {},
   "source": [
    "### Case Normalization"
   ]
  },
  {
   "cell_type": "code",
   "execution_count": 4,
   "metadata": {},
   "outputs": [
    {
     "name": "stdout",
     "output_type": "stream",
     "text": [
      "The first time you see The Second Renaissance it may look boring. Look at it at least twice and definitely watch part 2. It will change your view of the matrix. Are the human people the ones who started the war ? Is AI a bad thing ?\n"
     ]
    }
   ],
   "source": [
    "# Sample text\n",
    "text = \"The first time you see The Second Renaissance it may look boring. Look at it at least twice and definitely watch part 2. It will change your view of the matrix. Are the human people the ones who started the war ? Is AI a bad thing ?\"\n",
    "print(text)"
   ]
  },
  {
   "cell_type": "code",
   "execution_count": 5,
   "metadata": {},
   "outputs": [
    {
     "name": "stdout",
     "output_type": "stream",
     "text": [
      "the first time you see the second renaissance it may look boring. look at it at least twice and definitely watch part 2. it will change your view of the matrix. are the human people the ones who started the war ? is ai a bad thing ?\n"
     ]
    }
   ],
   "source": [
    "# Convert to lowercase\n",
    "text = text.lower() \n",
    "print(text)"
   ]
  },
  {
   "cell_type": "markdown",
   "metadata": {},
   "source": [
    "### Punctuation Removal"
   ]
  },
  {
   "cell_type": "code",
   "execution_count": 6,
   "metadata": {},
   "outputs": [
    {
     "name": "stdout",
     "output_type": "stream",
     "text": [
      "the first time you see the second renaissance it may look boring  look at it at least twice and definitely watch part 2  it will change your view of the matrix  are the human people the ones who started the war   is ai a bad thing  \n"
     ]
    }
   ],
   "source": [
    "import re\n",
    "\n",
    "# Remove punctuation characters\n",
    "text = re.sub(r\"[^a-zA-Z0-9]\", \" \", text) \n",
    "print(text)"
   ]
  },
  {
   "cell_type": "markdown",
   "metadata": {},
   "source": [
    "## Tokenization"
   ]
  },
  {
   "cell_type": "code",
   "execution_count": 7,
   "metadata": {},
   "outputs": [
    {
     "name": "stdout",
     "output_type": "stream",
     "text": [
      "['the', 'first', 'time', 'you', 'see', 'the', 'second', 'renaissance', 'it', 'may', 'look', 'boring', 'look', 'at', 'it', 'at', 'least', 'twice', 'and', 'definitely', 'watch', 'part', '2', 'it', 'will', 'change', 'your', 'view', 'of', 'the', 'matrix', 'are', 'the', 'human', 'people', 'the', 'ones', 'who', 'started', 'the', 'war', 'is', 'ai', 'a', 'bad', 'thing']\n"
     ]
    }
   ],
   "source": [
    "# Split text into tokens (words)\n",
    "words = text.split()\n",
    "print(words)"
   ]
  },
  {
   "cell_type": "markdown",
   "metadata": {},
   "source": [
    "### NLTK: Natural Language ToolKit"
   ]
  },
  {
   "cell_type": "code",
   "execution_count": 8,
   "metadata": {},
   "outputs": [],
   "source": [
    "import os\n",
    "import nltk\n",
    "nltk.data.path.append(os.path.join(os.getcwd(), \"nltk_data\"))"
   ]
  },
  {
   "cell_type": "code",
   "execution_count": 9,
   "metadata": {},
   "outputs": [
    {
     "name": "stdout",
     "output_type": "stream",
     "text": [
      "Dr. Smith graduated from the University of Washington. He later started an analytics firm called Lux, which catered to enterprise customers.\n"
     ]
    }
   ],
   "source": [
    "# Another sample text\n",
    "text = \"Dr. Smith graduated from the University of Washington. He later started an analytics firm called Lux, which catered to enterprise customers.\"\n",
    "print(text)"
   ]
  },
  {
   "cell_type": "code",
   "execution_count": 10,
   "metadata": {},
   "outputs": [
    {
     "name": "stdout",
     "output_type": "stream",
     "text": [
      "['Dr.', 'Smith', 'graduated', 'from', 'the', 'University', 'of', 'Washington', '.', 'He', 'later', 'started', 'an', 'analytics', 'firm', 'called', 'Lux', ',', 'which', 'catered', 'to', 'enterprise', 'customers', '.']\n"
     ]
    }
   ],
   "source": [
    "from nltk.tokenize import word_tokenize\n",
    "\n",
    "# Split text into words using NLTK\n",
    "words = word_tokenize(text)\n",
    "print(words)"
   ]
  },
  {
   "cell_type": "code",
   "execution_count": 11,
   "metadata": {},
   "outputs": [
    {
     "name": "stdout",
     "output_type": "stream",
     "text": [
      "['Dr. Smith graduated from the University of Washington.', 'He later started an analytics firm called Lux, which catered to enterprise customers.']\n"
     ]
    }
   ],
   "source": [
    "from nltk.tokenize import sent_tokenize\n",
    "\n",
    "# Split text into sentences\n",
    "sentences = sent_tokenize(text)\n",
    "print(sentences)"
   ]
  },
  {
   "cell_type": "code",
   "execution_count": 12,
   "metadata": {},
   "outputs": [
    {
     "name": "stdout",
     "output_type": "stream",
     "text": [
      "['i', 'me', 'my', 'myself', 'we', 'our', 'ours', 'ourselves', 'you', \"you're\", \"you've\", \"you'll\", \"you'd\", 'your', 'yours', 'yourself', 'yourselves', 'he', 'him', 'his', 'himself', 'she', \"she's\", 'her', 'hers', 'herself', 'it', \"it's\", 'its', 'itself', 'they', 'them', 'their', 'theirs', 'themselves', 'what', 'which', 'who', 'whom', 'this', 'that', \"that'll\", 'these', 'those', 'am', 'is', 'are', 'was', 'were', 'be', 'been', 'being', 'have', 'has', 'had', 'having', 'do', 'does', 'did', 'doing', 'a', 'an', 'the', 'and', 'but', 'if', 'or', 'because', 'as', 'until', 'while', 'of', 'at', 'by', 'for', 'with', 'about', 'against', 'between', 'into', 'through', 'during', 'before', 'after', 'above', 'below', 'to', 'from', 'up', 'down', 'in', 'out', 'on', 'off', 'over', 'under', 'again', 'further', 'then', 'once', 'here', 'there', 'when', 'where', 'why', 'how', 'all', 'any', 'both', 'each', 'few', 'more', 'most', 'other', 'some', 'such', 'no', 'nor', 'not', 'only', 'own', 'same', 'so', 'than', 'too', 'very', 's', 't', 'can', 'will', 'just', 'don', \"don't\", 'should', \"should've\", 'now', 'd', 'll', 'm', 'o', 're', 've', 'y', 'ain', 'aren', \"aren't\", 'couldn', \"couldn't\", 'didn', \"didn't\", 'doesn', \"doesn't\", 'hadn', \"hadn't\", 'hasn', \"hasn't\", 'haven', \"haven't\", 'isn', \"isn't\", 'ma', 'mightn', \"mightn't\", 'mustn', \"mustn't\", 'needn', \"needn't\", 'shan', \"shan't\", 'shouldn', \"shouldn't\", 'wasn', \"wasn't\", 'weren', \"weren't\", 'won', \"won't\", 'wouldn', \"wouldn't\"]\n"
     ]
    }
   ],
   "source": [
    "# List stop words\n",
    "from nltk.corpus import stopwords\n",
    "print(stopwords.words(\"english\"))"
   ]
  },
  {
   "cell_type": "code",
   "execution_count": 13,
   "metadata": {},
   "outputs": [
    {
     "name": "stdout",
     "output_type": "stream",
     "text": [
      "['the', 'first', 'time', 'you', 'see', 'the', 'second', 'renaissance', 'it', 'may', 'look', 'boring', 'look', 'at', 'it', 'at', 'least', 'twice', 'and', 'definitely', 'watch', 'part', '2', 'it', 'will', 'change', 'your', 'view', 'of', 'the', 'matrix', 'are', 'the', 'human', 'people', 'the', 'ones', 'who', 'started', 'the', 'war', 'is', 'ai', 'a', 'bad', 'thing']\n"
     ]
    }
   ],
   "source": [
    "# Reset text\n",
    "text = \"The first time you see The Second Renaissance it may look boring. Look at it at least twice and definitely watch part 2. It will change your view of the matrix. Are the human people the ones who started the war ? Is AI a bad thing ?\"\n",
    "\n",
    "# Normalize it\n",
    "text = re.sub(r\"[^a-zA-Z0-9]\", \" \", text.lower())\n",
    "\n",
    "# Tokenize it\n",
    "words = text.split()\n",
    "print(words)"
   ]
  },
  {
   "cell_type": "code",
   "execution_count": 14,
   "metadata": {},
   "outputs": [
    {
     "name": "stdout",
     "output_type": "stream",
     "text": [
      "['first', 'time', 'see', 'second', 'renaissance', 'may', 'look', 'boring', 'look', 'least', 'twice', 'definitely', 'watch', 'part', '2', 'change', 'view', 'matrix', 'human', 'people', 'ones', 'started', 'war', 'ai', 'bad', 'thing']\n"
     ]
    }
   ],
   "source": [
    "# Remove stop words\n",
    "words = [w for w in words if w not in stopwords.words(\"english\")]\n",
    "print(words)"
   ]
  },
  {
   "cell_type": "code",
   "execution_count": 26,
   "metadata": {},
   "outputs": [
    {
     "name": "stdout",
     "output_type": "stream",
     "text": [
      "[nltk_data] Downloading package averaged_perceptron_tagger to\n",
      "[nltk_data]     /root/nltk_data...\n",
      "[nltk_data]   Package averaged_perceptron_tagger is already up-to-\n",
      "[nltk_data]       date!\n"
     ]
    },
    {
     "data": {
      "text/plain": [
       "[('I', 'PRP'),\n",
       " ('always', 'RB'),\n",
       " ('lie', 'VBP'),\n",
       " ('down', 'RP'),\n",
       " ('to', 'TO'),\n",
       " ('tell', 'VB'),\n",
       " ('a', 'DT'),\n",
       " ('lie', 'NN'),\n",
       " ('.', '.')]"
      ]
     },
     "execution_count": 26,
     "metadata": {},
     "output_type": "execute_result"
    }
   ],
   "source": [
    "nltk.download('averaged_perceptron_tagger')\n",
    "sentence = word_tokenize(\"I always lie down to tell a lie.\")\n",
    "pos_tag(sentence)"
   ]
  },
  {
   "cell_type": "markdown",
   "metadata": {},
   "source": [
    "### Sentence Parsing"
   ]
  },
  {
   "cell_type": "code",
   "execution_count": 27,
   "metadata": {},
   "outputs": [
    {
     "name": "stdout",
     "output_type": "stream",
     "text": [
      "(S\n",
      "  (NP I)\n",
      "  (VP\n",
      "    (VP (V shot) (NP (Det an) (N elephant)))\n",
      "    (PP (P in) (NP (Det my) (N pajamas)))))\n",
      "(S\n",
      "  (NP I)\n",
      "  (VP\n",
      "    (V shot)\n",
      "    (NP (Det an) (N elephant) (PP (P in) (NP (Det my) (N pajamas))))))\n"
     ]
    }
   ],
   "source": [
    "import nltk\n",
    "\n",
    "# Define a custom grammar\n",
    "my_grammar = nltk.CFG.fromstring(\"\"\"\n",
    "S -> NP VP\n",
    "PP -> P NP\n",
    "NP -> Det N | Det N PP | 'I'\n",
    "VP -> V NP | VP PP\n",
    "Det -> 'an' | 'my'\n",
    "N -> 'elephant' | 'pajamas'\n",
    "V -> 'shot'\n",
    "P -> 'in'\n",
    "\"\"\")\n",
    "parser = nltk.ChartParser(my_grammar)\n",
    "\n",
    "# Parse a sentence\n",
    "sentence = word_tokenize(\"I shot an elephant in my pajamas\")\n",
    "for tree in parser.parse(sentence):\n",
    "    print(tree)"
   ]
  },
  {
   "cell_type": "markdown",
   "metadata": {},
   "source": [
    "## Named Entity Recognition"
   ]
  },
  {
   "cell_type": "code",
   "execution_count": 31,
   "metadata": {},
   "outputs": [
    {
     "name": "stdout",
     "output_type": "stream",
     "text": [
      "[nltk_data] Downloading package maxent_ne_chunker to\n",
      "[nltk_data]     /root/nltk_data...\n",
      "[nltk_data]   Package maxent_ne_chunker is already up-to-date!\n",
      "[nltk_data] Downloading package words to /root/nltk_data...\n",
      "[nltk_data]   Package words is already up-to-date!\n"
     ]
    },
    {
     "ename": "LookupError",
     "evalue": "\n\n===========================================================================\nNLTK was unable to find the gs file!\nUse software specific configuration paramaters or set the PATH environment variable.\n===========================================================================",
     "output_type": "error",
     "traceback": [
      "\u001b[0;31m---------------------------------------------------------------------------\u001b[0m",
      "\u001b[0;31mLookupError\u001b[0m                               Traceback (most recent call last)",
      "\u001b[0;32m/opt/conda/lib/python3.6/site-packages/IPython/core/formatters.py\u001b[0m in \u001b[0;36m__call__\u001b[0;34m(self, obj)\u001b[0m\n\u001b[1;32m    343\u001b[0m             \u001b[0mmethod\u001b[0m \u001b[0;34m=\u001b[0m \u001b[0mget_real_method\u001b[0m\u001b[0;34m(\u001b[0m\u001b[0mobj\u001b[0m\u001b[0;34m,\u001b[0m \u001b[0mself\u001b[0m\u001b[0;34m.\u001b[0m\u001b[0mprint_method\u001b[0m\u001b[0;34m)\u001b[0m\u001b[0;34m\u001b[0m\u001b[0m\n\u001b[1;32m    344\u001b[0m             \u001b[0;32mif\u001b[0m \u001b[0mmethod\u001b[0m \u001b[0;32mis\u001b[0m \u001b[0;32mnot\u001b[0m \u001b[0;32mNone\u001b[0m\u001b[0;34m:\u001b[0m\u001b[0;34m\u001b[0m\u001b[0m\n\u001b[0;32m--> 345\u001b[0;31m                 \u001b[0;32mreturn\u001b[0m \u001b[0mmethod\u001b[0m\u001b[0;34m(\u001b[0m\u001b[0;34m)\u001b[0m\u001b[0;34m\u001b[0m\u001b[0m\n\u001b[0m\u001b[1;32m    346\u001b[0m             \u001b[0;32mreturn\u001b[0m \u001b[0;32mNone\u001b[0m\u001b[0;34m\u001b[0m\u001b[0m\n\u001b[1;32m    347\u001b[0m         \u001b[0;32melse\u001b[0m\u001b[0;34m:\u001b[0m\u001b[0;34m\u001b[0m\u001b[0m\n",
      "\u001b[0;32m/opt/conda/lib/python3.6/site-packages/nltk/tree.py\u001b[0m in \u001b[0;36m_repr_png_\u001b[0;34m(self)\u001b[0m\n\u001b[1;32m    728\u001b[0m             \u001b[0m_canvas_frame\u001b[0m\u001b[0;34m.\u001b[0m\u001b[0mprint_to_file\u001b[0m\u001b[0;34m(\u001b[0m\u001b[0min_path\u001b[0m\u001b[0;34m)\u001b[0m\u001b[0;34m\u001b[0m\u001b[0m\n\u001b[1;32m    729\u001b[0m             \u001b[0m_canvas_frame\u001b[0m\u001b[0;34m.\u001b[0m\u001b[0mdestroy_widget\u001b[0m\u001b[0;34m(\u001b[0m\u001b[0mwidget\u001b[0m\u001b[0;34m)\u001b[0m\u001b[0;34m\u001b[0m\u001b[0m\n\u001b[0;32m--> 730\u001b[0;31m             subprocess.call([find_binary('gs', binary_names=['gswin32c.exe', 'gswin64c.exe'], env_vars=['PATH'], verbose=False)] +\n\u001b[0m\u001b[1;32m    731\u001b[0m                             \u001b[0;34m'-q -dEPSCrop -sDEVICE=png16m -r90 -dTextAlphaBits=4 -dGraphicsAlphaBits=4 -dSAFER -dBATCH -dNOPAUSE -sOutputFile={0:} {1:}'\u001b[0m\u001b[0;34m\u001b[0m\u001b[0m\n\u001b[1;32m    732\u001b[0m                             .format(out_path, in_path).split())\n",
      "\u001b[0;32m/opt/conda/lib/python3.6/site-packages/nltk/__init__.py\u001b[0m in \u001b[0;36mfind_binary\u001b[0;34m(name, path_to_bin, env_vars, searchpath, binary_names, url, verbose)\u001b[0m\n\u001b[1;32m    602\u001b[0m                 binary_names=None, url=None, verbose=False):\n\u001b[1;32m    603\u001b[0m     return next(find_binary_iter(name, path_to_bin, env_vars, searchpath,\n\u001b[0;32m--> 604\u001b[0;31m                                  binary_names, url, verbose))\n\u001b[0m\u001b[1;32m    605\u001b[0m \u001b[0;34m\u001b[0m\u001b[0m\n\u001b[1;32m    606\u001b[0m def find_jar_iter(name_pattern, path_to_jar=None, env_vars=(),\n",
      "\u001b[0;32m/opt/conda/lib/python3.6/site-packages/nltk/__init__.py\u001b[0m in \u001b[0;36mfind_binary_iter\u001b[0;34m(name, path_to_bin, env_vars, searchpath, binary_names, url, verbose)\u001b[0m\n\u001b[1;32m    596\u001b[0m     \"\"\"\n\u001b[1;32m    597\u001b[0m     for file in  find_file_iter(path_to_bin or name, env_vars, searchpath, binary_names,\n\u001b[0;32m--> 598\u001b[0;31m                      url, verbose):\n\u001b[0m\u001b[1;32m    599\u001b[0m         \u001b[0;32myield\u001b[0m \u001b[0mfile\u001b[0m\u001b[0;34m\u001b[0m\u001b[0m\n\u001b[1;32m    600\u001b[0m \u001b[0;34m\u001b[0m\u001b[0m\n",
      "\u001b[0;32m/opt/conda/lib/python3.6/site-packages/nltk/__init__.py\u001b[0m in \u001b[0;36mfind_file_iter\u001b[0;34m(filename, env_vars, searchpath, file_names, url, verbose, finding_dir)\u001b[0m\n\u001b[1;32m    567\u001b[0m                         (filename, url))\n\u001b[1;32m    568\u001b[0m         \u001b[0mdiv\u001b[0m \u001b[0;34m=\u001b[0m \u001b[0;34m'='\u001b[0m\u001b[0;34m*\u001b[0m\u001b[0;36m75\u001b[0m\u001b[0;34m\u001b[0m\u001b[0m\n\u001b[0;32m--> 569\u001b[0;31m         \u001b[0;32mraise\u001b[0m \u001b[0mLookupError\u001b[0m\u001b[0;34m(\u001b[0m\u001b[0;34m'\\n\\n%s\\n%s\\n%s'\u001b[0m \u001b[0;34m%\u001b[0m \u001b[0;34m(\u001b[0m\u001b[0mdiv\u001b[0m\u001b[0;34m,\u001b[0m \u001b[0mmsg\u001b[0m\u001b[0;34m,\u001b[0m \u001b[0mdiv\u001b[0m\u001b[0;34m)\u001b[0m\u001b[0;34m)\u001b[0m\u001b[0;34m\u001b[0m\u001b[0m\n\u001b[0m\u001b[1;32m    570\u001b[0m \u001b[0;34m\u001b[0m\u001b[0m\n\u001b[1;32m    571\u001b[0m \u001b[0;34m\u001b[0m\u001b[0m\n",
      "\u001b[0;31mLookupError\u001b[0m: \n\n===========================================================================\nNLTK was unable to find the gs file!\nUse software specific configuration paramaters or set the PATH environment variable.\n==========================================================================="
     ]
    },
    {
     "data": {
      "text/plain": [
       "Tree('S', [Tree('PERSON', [('Antonio', 'NNP')]), ('joined', 'VBD'), Tree('ORGANIZATION', [('Udacity', 'NNP'), ('Inc.', 'NNP')]), ('in', 'IN'), Tree('GPE', [('California', 'NNP')]), ('.', '.')])"
      ]
     },
     "execution_count": 31,
     "metadata": {},
     "output_type": "execute_result"
    }
   ],
   "source": [
    "nltk.download('maxent_ne_chunker')\n",
    "nltk.download('words')\n",
    "from nltk import pos_tag, ne_chunk\n",
    "from nltk.tokenize import word_tokenize\n",
    "\n",
    "# Recognize named entities in a tagged sentence\n",
    "ne_chunk(pos_tag(word_tokenize(\"Antonio joined Udacity Inc. in California.\")))"
   ]
  },
  {
   "cell_type": "markdown",
   "metadata": {},
   "source": [
    "## Stemming & Lemmatization\n",
    "\n",
    "### Stemming"
   ]
  },
  {
   "cell_type": "code",
   "execution_count": 32,
   "metadata": {},
   "outputs": [
    {
     "name": "stdout",
     "output_type": "stream",
     "text": [
      "['first', 'time', 'see', 'second', 'renaiss', 'may', 'look', 'bore', 'look', 'least', 'twice', 'definit', 'watch', 'part', '2', 'chang', 'view', 'matrix', 'human', 'peopl', 'one', 'start', 'war', 'ai', 'bad', 'thing']\n"
     ]
    }
   ],
   "source": [
    "from nltk.stem.porter import PorterStemmer\n",
    "\n",
    "# Reduce words to their stems\n",
    "stemmed = [PorterStemmer().stem(w) for w in words]\n",
    "print(stemmed)"
   ]
  },
  {
   "cell_type": "markdown",
   "metadata": {},
   "source": [
    "### Lemmatization"
   ]
  },
  {
   "cell_type": "code",
   "execution_count": 33,
   "metadata": {},
   "outputs": [
    {
     "name": "stdout",
     "output_type": "stream",
     "text": [
      "['first', 'time', 'see', 'second', 'renaissance', 'may', 'look', 'boring', 'look', 'least', 'twice', 'definitely', 'watch', 'part', '2', 'change', 'view', 'matrix', 'human', 'people', 'one', 'started', 'war', 'ai', 'bad', 'thing']\n"
     ]
    }
   ],
   "source": [
    "from nltk.stem.wordnet import WordNetLemmatizer\n",
    "\n",
    "# Reduce words to their root form\n",
    "lemmed = [WordNetLemmatizer().lemmatize(w) for w in words]\n",
    "print(lemmed)"
   ]
  },
  {
   "cell_type": "code",
   "execution_count": 34,
   "metadata": {},
   "outputs": [
    {
     "name": "stdout",
     "output_type": "stream",
     "text": [
      "['first', 'time', 'see', 'second', 'renaissance', 'may', 'look', 'bore', 'look', 'least', 'twice', 'definitely', 'watch', 'part', '2', 'change', 'view', 'matrix', 'human', 'people', 'one', 'start', 'war', 'ai', 'bad', 'thing']\n"
     ]
    }
   ],
   "source": [
    "# Lemmatize verbs by specifying pos\n",
    "lemmed = [WordNetLemmatizer().lemmatize(w, pos='v') for w in lemmed]\n",
    "print(lemmed)"
   ]
  },
  {
   "cell_type": "code",
   "execution_count": null,
   "metadata": {},
   "outputs": [],
   "source": []
  }
 ],
 "metadata": {
  "kernelspec": {
   "display_name": "Python 3",
   "language": "python",
   "name": "python3"
  },
  "language_info": {
   "codemirror_mode": {
    "name": "ipython",
    "version": 3
   },
   "file_extension": ".py",
   "mimetype": "text/x-python",
   "name": "python",
   "nbconvert_exporter": "python",
   "pygments_lexer": "ipython3",
   "version": "3.6.3"
  }
 },
 "nbformat": 4,
 "nbformat_minor": 2
}
